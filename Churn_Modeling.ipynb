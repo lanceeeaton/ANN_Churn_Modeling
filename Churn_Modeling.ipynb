{
  "nbformat": 4,
  "nbformat_minor": 0,
  "metadata": {
    "colab": {
      "name": "Churn_Modeling.ipynb",
      "version": "0.3.2",
      "provenance": [],
      "collapsed_sections": []
    },
    "kernelspec": {
      "name": "python3",
      "display_name": "Python 3"
    }
  },
  "cells": [
    {
      "metadata": {
        "id": "vwkJhB9j1WcW",
        "colab_type": "code",
        "colab": {}
      },
      "cell_type": "code",
      "source": [
        "import numpy as np\n",
        "import pandas as pd\n",
        "import matplotlib.pyplot as plt\n",
        "import keras\n",
        "from keras.models import Sequential # init NN\n",
        "from keras.layers import Dense # create layers in ANN\n",
        "from sklearn.preprocessing import StandardScaler\n",
        "from sklearn.model_selection import train_test_split\n",
        "from sklearn.metrics import confusion_matrix\n",
        "import warnings\n",
        "warnings.filterwarnings('ignore', category=FutureWarning)"
      ],
      "execution_count": 0,
      "outputs": []
    },
    {
      "metadata": {
        "id": "O6Ti-uOG5ase",
        "colab_type": "code",
        "outputId": "429e145e-10a2-4cd6-a181-1dc281e4e861",
        "colab": {
          "base_uri": "https://localhost:8080/",
          "height": 204
        }
      },
      "cell_type": "code",
      "source": [
        "dataset = pd.read_csv('https://raw.githubusercontent.com/lanceeeaton/ANN_Churn_Modeling/master/Churn_Modelling.csv')\n",
        "dataset.head()"
      ],
      "execution_count": 238,
      "outputs": [
        {
          "output_type": "execute_result",
          "data": {
            "text/html": [
              "<div>\n",
              "<style scoped>\n",
              "    .dataframe tbody tr th:only-of-type {\n",
              "        vertical-align: middle;\n",
              "    }\n",
              "\n",
              "    .dataframe tbody tr th {\n",
              "        vertical-align: top;\n",
              "    }\n",
              "\n",
              "    .dataframe thead th {\n",
              "        text-align: right;\n",
              "    }\n",
              "</style>\n",
              "<table border=\"1\" class=\"dataframe\">\n",
              "  <thead>\n",
              "    <tr style=\"text-align: right;\">\n",
              "      <th></th>\n",
              "      <th>RowNumber</th>\n",
              "      <th>CustomerId</th>\n",
              "      <th>Surname</th>\n",
              "      <th>CreditScore</th>\n",
              "      <th>Geography</th>\n",
              "      <th>Gender</th>\n",
              "      <th>Age</th>\n",
              "      <th>Tenure</th>\n",
              "      <th>Balance</th>\n",
              "      <th>NumOfProducts</th>\n",
              "      <th>HasCrCard</th>\n",
              "      <th>IsActiveMember</th>\n",
              "      <th>EstimatedSalary</th>\n",
              "      <th>Exited</th>\n",
              "    </tr>\n",
              "  </thead>\n",
              "  <tbody>\n",
              "    <tr>\n",
              "      <th>0</th>\n",
              "      <td>1</td>\n",
              "      <td>15634602</td>\n",
              "      <td>Hargrave</td>\n",
              "      <td>619</td>\n",
              "      <td>France</td>\n",
              "      <td>Female</td>\n",
              "      <td>42</td>\n",
              "      <td>2</td>\n",
              "      <td>0.00</td>\n",
              "      <td>1</td>\n",
              "      <td>1</td>\n",
              "      <td>1</td>\n",
              "      <td>101348.88</td>\n",
              "      <td>1</td>\n",
              "    </tr>\n",
              "    <tr>\n",
              "      <th>1</th>\n",
              "      <td>2</td>\n",
              "      <td>15647311</td>\n",
              "      <td>Hill</td>\n",
              "      <td>608</td>\n",
              "      <td>Spain</td>\n",
              "      <td>Female</td>\n",
              "      <td>41</td>\n",
              "      <td>1</td>\n",
              "      <td>83807.86</td>\n",
              "      <td>1</td>\n",
              "      <td>0</td>\n",
              "      <td>1</td>\n",
              "      <td>112542.58</td>\n",
              "      <td>0</td>\n",
              "    </tr>\n",
              "    <tr>\n",
              "      <th>2</th>\n",
              "      <td>3</td>\n",
              "      <td>15619304</td>\n",
              "      <td>Onio</td>\n",
              "      <td>502</td>\n",
              "      <td>France</td>\n",
              "      <td>Female</td>\n",
              "      <td>42</td>\n",
              "      <td>8</td>\n",
              "      <td>159660.80</td>\n",
              "      <td>3</td>\n",
              "      <td>1</td>\n",
              "      <td>0</td>\n",
              "      <td>113931.57</td>\n",
              "      <td>1</td>\n",
              "    </tr>\n",
              "    <tr>\n",
              "      <th>3</th>\n",
              "      <td>4</td>\n",
              "      <td>15701354</td>\n",
              "      <td>Boni</td>\n",
              "      <td>699</td>\n",
              "      <td>France</td>\n",
              "      <td>Female</td>\n",
              "      <td>39</td>\n",
              "      <td>1</td>\n",
              "      <td>0.00</td>\n",
              "      <td>2</td>\n",
              "      <td>0</td>\n",
              "      <td>0</td>\n",
              "      <td>93826.63</td>\n",
              "      <td>0</td>\n",
              "    </tr>\n",
              "    <tr>\n",
              "      <th>4</th>\n",
              "      <td>5</td>\n",
              "      <td>15737888</td>\n",
              "      <td>Mitchell</td>\n",
              "      <td>850</td>\n",
              "      <td>Spain</td>\n",
              "      <td>Female</td>\n",
              "      <td>43</td>\n",
              "      <td>2</td>\n",
              "      <td>125510.82</td>\n",
              "      <td>1</td>\n",
              "      <td>1</td>\n",
              "      <td>1</td>\n",
              "      <td>79084.10</td>\n",
              "      <td>0</td>\n",
              "    </tr>\n",
              "  </tbody>\n",
              "</table>\n",
              "</div>"
            ],
            "text/plain": [
              "   RowNumber  CustomerId   Surname  CreditScore Geography  Gender  Age  \\\n",
              "0          1    15634602  Hargrave          619    France  Female   42   \n",
              "1          2    15647311      Hill          608     Spain  Female   41   \n",
              "2          3    15619304      Onio          502    France  Female   42   \n",
              "3          4    15701354      Boni          699    France  Female   39   \n",
              "4          5    15737888  Mitchell          850     Spain  Female   43   \n",
              "\n",
              "   Tenure    Balance  NumOfProducts  HasCrCard  IsActiveMember  \\\n",
              "0       2       0.00              1          1               1   \n",
              "1       1   83807.86              1          0               1   \n",
              "2       8  159660.80              3          1               0   \n",
              "3       1       0.00              2          0               0   \n",
              "4       2  125510.82              1          1               1   \n",
              "\n",
              "   EstimatedSalary  Exited  \n",
              "0        101348.88       1  \n",
              "1        112542.58       0  \n",
              "2        113931.57       1  \n",
              "3         93826.63       0  \n",
              "4         79084.10       0  "
            ]
          },
          "metadata": {
            "tags": []
          },
          "execution_count": 238
        }
      ]
    },
    {
      "metadata": {
        "id": "3yDClQnKAMTo",
        "colab_type": "code",
        "outputId": "827607e4-591b-431d-8ed5-cae061deeaa3",
        "colab": {
          "base_uri": "https://localhost:8080/",
          "height": 34
        }
      },
      "cell_type": "code",
      "source": [
        "dataset.isnull().values.any()"
      ],
      "execution_count": 239,
      "outputs": [
        {
          "output_type": "execute_result",
          "data": {
            "text/plain": [
              "False"
            ]
          },
          "metadata": {
            "tags": []
          },
          "execution_count": 239
        }
      ]
    },
    {
      "metadata": {
        "id": "XixDwqekAlg-",
        "colab_type": "code",
        "colab": {}
      },
      "cell_type": "code",
      "source": [
        "X = dataset.iloc[:,3:13]\n",
        "y = dataset.iloc[:,-1].values"
      ],
      "execution_count": 0,
      "outputs": []
    },
    {
      "metadata": {
        "id": "cwZpZ4zjBOIA",
        "colab_type": "code",
        "outputId": "b86f0c16-77ed-44b6-e070-0e457b837d28",
        "colab": {
          "base_uri": "https://localhost:8080/",
          "height": 204
        }
      },
      "cell_type": "code",
      "source": [
        "X.head()"
      ],
      "execution_count": 241,
      "outputs": [
        {
          "output_type": "execute_result",
          "data": {
            "text/html": [
              "<div>\n",
              "<style scoped>\n",
              "    .dataframe tbody tr th:only-of-type {\n",
              "        vertical-align: middle;\n",
              "    }\n",
              "\n",
              "    .dataframe tbody tr th {\n",
              "        vertical-align: top;\n",
              "    }\n",
              "\n",
              "    .dataframe thead th {\n",
              "        text-align: right;\n",
              "    }\n",
              "</style>\n",
              "<table border=\"1\" class=\"dataframe\">\n",
              "  <thead>\n",
              "    <tr style=\"text-align: right;\">\n",
              "      <th></th>\n",
              "      <th>CreditScore</th>\n",
              "      <th>Geography</th>\n",
              "      <th>Gender</th>\n",
              "      <th>Age</th>\n",
              "      <th>Tenure</th>\n",
              "      <th>Balance</th>\n",
              "      <th>NumOfProducts</th>\n",
              "      <th>HasCrCard</th>\n",
              "      <th>IsActiveMember</th>\n",
              "      <th>EstimatedSalary</th>\n",
              "    </tr>\n",
              "  </thead>\n",
              "  <tbody>\n",
              "    <tr>\n",
              "      <th>0</th>\n",
              "      <td>619</td>\n",
              "      <td>France</td>\n",
              "      <td>Female</td>\n",
              "      <td>42</td>\n",
              "      <td>2</td>\n",
              "      <td>0.00</td>\n",
              "      <td>1</td>\n",
              "      <td>1</td>\n",
              "      <td>1</td>\n",
              "      <td>101348.88</td>\n",
              "    </tr>\n",
              "    <tr>\n",
              "      <th>1</th>\n",
              "      <td>608</td>\n",
              "      <td>Spain</td>\n",
              "      <td>Female</td>\n",
              "      <td>41</td>\n",
              "      <td>1</td>\n",
              "      <td>83807.86</td>\n",
              "      <td>1</td>\n",
              "      <td>0</td>\n",
              "      <td>1</td>\n",
              "      <td>112542.58</td>\n",
              "    </tr>\n",
              "    <tr>\n",
              "      <th>2</th>\n",
              "      <td>502</td>\n",
              "      <td>France</td>\n",
              "      <td>Female</td>\n",
              "      <td>42</td>\n",
              "      <td>8</td>\n",
              "      <td>159660.80</td>\n",
              "      <td>3</td>\n",
              "      <td>1</td>\n",
              "      <td>0</td>\n",
              "      <td>113931.57</td>\n",
              "    </tr>\n",
              "    <tr>\n",
              "      <th>3</th>\n",
              "      <td>699</td>\n",
              "      <td>France</td>\n",
              "      <td>Female</td>\n",
              "      <td>39</td>\n",
              "      <td>1</td>\n",
              "      <td>0.00</td>\n",
              "      <td>2</td>\n",
              "      <td>0</td>\n",
              "      <td>0</td>\n",
              "      <td>93826.63</td>\n",
              "    </tr>\n",
              "    <tr>\n",
              "      <th>4</th>\n",
              "      <td>850</td>\n",
              "      <td>Spain</td>\n",
              "      <td>Female</td>\n",
              "      <td>43</td>\n",
              "      <td>2</td>\n",
              "      <td>125510.82</td>\n",
              "      <td>1</td>\n",
              "      <td>1</td>\n",
              "      <td>1</td>\n",
              "      <td>79084.10</td>\n",
              "    </tr>\n",
              "  </tbody>\n",
              "</table>\n",
              "</div>"
            ],
            "text/plain": [
              "   CreditScore Geography  Gender  Age  Tenure    Balance  NumOfProducts  \\\n",
              "0          619    France  Female   42       2       0.00              1   \n",
              "1          608     Spain  Female   41       1   83807.86              1   \n",
              "2          502    France  Female   42       8  159660.80              3   \n",
              "3          699    France  Female   39       1       0.00              2   \n",
              "4          850     Spain  Female   43       2  125510.82              1   \n",
              "\n",
              "   HasCrCard  IsActiveMember  EstimatedSalary  \n",
              "0          1               1        101348.88  \n",
              "1          0               1        112542.58  \n",
              "2          1               0        113931.57  \n",
              "3          0               0         93826.63  \n",
              "4          1               1         79084.10  "
            ]
          },
          "metadata": {
            "tags": []
          },
          "execution_count": 241
        }
      ]
    },
    {
      "metadata": {
        "id": "Y4RVhaMrCpKL",
        "colab_type": "code",
        "outputId": "5b3465da-8489-4694-c86e-631ad9610470",
        "colab": {
          "base_uri": "https://localhost:8080/",
          "height": 34
        }
      },
      "cell_type": "code",
      "source": [
        "y[:5]"
      ],
      "execution_count": 242,
      "outputs": [
        {
          "output_type": "execute_result",
          "data": {
            "text/plain": [
              "array([1, 0, 1, 0, 0])"
            ]
          },
          "metadata": {
            "tags": []
          },
          "execution_count": 242
        }
      ]
    },
    {
      "metadata": {
        "id": "0SBkPgLKPW_S",
        "colab_type": "text"
      },
      "cell_type": "markdown",
      "source": [
        "Encoding Categorical Vars, Making Dummy Vars and avoiding Dummy var Trap"
      ]
    },
    {
      "metadata": {
        "id": "C1aeYttHA8MG",
        "colab_type": "code",
        "colab": {}
      },
      "cell_type": "code",
      "source": [
        "X = pd.get_dummies(X, columns = ['Geography','Gender'])\n",
        "X = X.drop(columns=['Geography_Spain', 'Gender_Male'])"
      ],
      "execution_count": 0,
      "outputs": []
    },
    {
      "metadata": {
        "id": "FvXdSeTqMyOn",
        "colab_type": "code",
        "outputId": "c0359a71-6c82-46fc-bb13-67e8b29f326f",
        "colab": {
          "base_uri": "https://localhost:8080/",
          "height": 204
        }
      },
      "cell_type": "code",
      "source": [
        "X.head()"
      ],
      "execution_count": 244,
      "outputs": [
        {
          "output_type": "execute_result",
          "data": {
            "text/html": [
              "<div>\n",
              "<style scoped>\n",
              "    .dataframe tbody tr th:only-of-type {\n",
              "        vertical-align: middle;\n",
              "    }\n",
              "\n",
              "    .dataframe tbody tr th {\n",
              "        vertical-align: top;\n",
              "    }\n",
              "\n",
              "    .dataframe thead th {\n",
              "        text-align: right;\n",
              "    }\n",
              "</style>\n",
              "<table border=\"1\" class=\"dataframe\">\n",
              "  <thead>\n",
              "    <tr style=\"text-align: right;\">\n",
              "      <th></th>\n",
              "      <th>CreditScore</th>\n",
              "      <th>Age</th>\n",
              "      <th>Tenure</th>\n",
              "      <th>Balance</th>\n",
              "      <th>NumOfProducts</th>\n",
              "      <th>HasCrCard</th>\n",
              "      <th>IsActiveMember</th>\n",
              "      <th>EstimatedSalary</th>\n",
              "      <th>Geography_France</th>\n",
              "      <th>Geography_Germany</th>\n",
              "      <th>Gender_Female</th>\n",
              "    </tr>\n",
              "  </thead>\n",
              "  <tbody>\n",
              "    <tr>\n",
              "      <th>0</th>\n",
              "      <td>619</td>\n",
              "      <td>42</td>\n",
              "      <td>2</td>\n",
              "      <td>0.00</td>\n",
              "      <td>1</td>\n",
              "      <td>1</td>\n",
              "      <td>1</td>\n",
              "      <td>101348.88</td>\n",
              "      <td>1</td>\n",
              "      <td>0</td>\n",
              "      <td>1</td>\n",
              "    </tr>\n",
              "    <tr>\n",
              "      <th>1</th>\n",
              "      <td>608</td>\n",
              "      <td>41</td>\n",
              "      <td>1</td>\n",
              "      <td>83807.86</td>\n",
              "      <td>1</td>\n",
              "      <td>0</td>\n",
              "      <td>1</td>\n",
              "      <td>112542.58</td>\n",
              "      <td>0</td>\n",
              "      <td>0</td>\n",
              "      <td>1</td>\n",
              "    </tr>\n",
              "    <tr>\n",
              "      <th>2</th>\n",
              "      <td>502</td>\n",
              "      <td>42</td>\n",
              "      <td>8</td>\n",
              "      <td>159660.80</td>\n",
              "      <td>3</td>\n",
              "      <td>1</td>\n",
              "      <td>0</td>\n",
              "      <td>113931.57</td>\n",
              "      <td>1</td>\n",
              "      <td>0</td>\n",
              "      <td>1</td>\n",
              "    </tr>\n",
              "    <tr>\n",
              "      <th>3</th>\n",
              "      <td>699</td>\n",
              "      <td>39</td>\n",
              "      <td>1</td>\n",
              "      <td>0.00</td>\n",
              "      <td>2</td>\n",
              "      <td>0</td>\n",
              "      <td>0</td>\n",
              "      <td>93826.63</td>\n",
              "      <td>1</td>\n",
              "      <td>0</td>\n",
              "      <td>1</td>\n",
              "    </tr>\n",
              "    <tr>\n",
              "      <th>4</th>\n",
              "      <td>850</td>\n",
              "      <td>43</td>\n",
              "      <td>2</td>\n",
              "      <td>125510.82</td>\n",
              "      <td>1</td>\n",
              "      <td>1</td>\n",
              "      <td>1</td>\n",
              "      <td>79084.10</td>\n",
              "      <td>0</td>\n",
              "      <td>0</td>\n",
              "      <td>1</td>\n",
              "    </tr>\n",
              "  </tbody>\n",
              "</table>\n",
              "</div>"
            ],
            "text/plain": [
              "   CreditScore  Age  Tenure    Balance  NumOfProducts  HasCrCard  \\\n",
              "0          619   42       2       0.00              1          1   \n",
              "1          608   41       1   83807.86              1          0   \n",
              "2          502   42       8  159660.80              3          1   \n",
              "3          699   39       1       0.00              2          0   \n",
              "4          850   43       2  125510.82              1          1   \n",
              "\n",
              "   IsActiveMember  EstimatedSalary  Geography_France  Geography_Germany  \\\n",
              "0               1        101348.88                 1                  0   \n",
              "1               1        112542.58                 0                  0   \n",
              "2               0        113931.57                 1                  0   \n",
              "3               0         93826.63                 1                  0   \n",
              "4               1         79084.10                 0                  0   \n",
              "\n",
              "   Gender_Female  \n",
              "0              1  \n",
              "1              1  \n",
              "2              1  \n",
              "3              1  \n",
              "4              1  "
            ]
          },
          "metadata": {
            "tags": []
          },
          "execution_count": 244
        }
      ]
    },
    {
      "metadata": {
        "id": "IHpGCdm-jnzO",
        "colab_type": "text"
      },
      "cell_type": "markdown",
      "source": [
        "Converting to float to avoid warning"
      ]
    },
    {
      "metadata": {
        "id": "X-cKP1Jgjj3Q",
        "colab_type": "code",
        "colab": {}
      },
      "cell_type": "code",
      "source": [
        "X = X.astype(float)"
      ],
      "execution_count": 0,
      "outputs": []
    },
    {
      "metadata": {
        "id": "CSyx_3HNRWDP",
        "colab_type": "text"
      },
      "cell_type": "markdown",
      "source": [
        "Spliting"
      ]
    },
    {
      "metadata": {
        "id": "jZZBpSzIRQr3",
        "colab_type": "code",
        "colab": {}
      },
      "cell_type": "code",
      "source": [
        "X_train, X_test, y_train, y_test = train_test_split(X, y, test_size = 0.2, random_state = 0)"
      ],
      "execution_count": 0,
      "outputs": []
    },
    {
      "metadata": {
        "id": "7CzRWA2cRwkj",
        "colab_type": "text"
      },
      "cell_type": "markdown",
      "source": [
        "Feature Scaling"
      ]
    },
    {
      "metadata": {
        "id": "hn6RqDbORZNW",
        "colab_type": "code",
        "colab": {}
      },
      "cell_type": "code",
      "source": [
        "standard_scaler = StandardScaler()\n",
        "X_train = standard_scaler.fit_transform(X_train)\n",
        "X_test = standard_scaler.transform(X_test)"
      ],
      "execution_count": 0,
      "outputs": []
    },
    {
      "metadata": {
        "id": "1czpfiYeZvwW",
        "colab_type": "code",
        "colab": {
          "base_uri": "https://localhost:8080/",
          "height": 3434
        },
        "outputId": "d04aa939-8fd8-4a64-884d-8f50ae42a619"
      },
      "cell_type": "code",
      "source": [
        "classifier = Sequential()\n",
        "classifier.add(Dense(activation='relu', input_dim = 11, units = 7, kernel_initializer='uniform')) # units = .5(num input nodes + num output nodes)\n",
        "classifier.add(Dense(activation='relu', units = 7, kernel_initializer='uniform')) # 2nd hidden layer\n",
        "classifier.add(Dense(activation='sigmoid', units = 1, kernel_initializer='uniform')) # out layer\n",
        "\n",
        "classifier.compile(optimizer = 'adam', loss = 'binary_crossentropy', metrics=['accuracy']) # telling it to use stochastic gradient descent, and cross-entropy loss for a binary output\n",
        "classifier.fit(X_train, y_train, batch_size = 32, epochs = 100)"
      ],
      "execution_count": 249,
      "outputs": [
        {
          "output_type": "stream",
          "text": [
            "Epoch 1/100\n",
            "8000/8000 [==============================] - 1s 150us/step - loss: 0.5774 - acc: 0.7944\n",
            "Epoch 2/100\n",
            "8000/8000 [==============================] - 0s 38us/step - loss: 0.4376 - acc: 0.7960\n",
            "Epoch 3/100\n",
            "8000/8000 [==============================] - 0s 39us/step - loss: 0.4185 - acc: 0.8069\n",
            "Epoch 4/100\n",
            "8000/8000 [==============================] - 0s 38us/step - loss: 0.4026 - acc: 0.8133\n",
            "Epoch 5/100\n",
            "8000/8000 [==============================] - 0s 38us/step - loss: 0.3875 - acc: 0.8177\n",
            "Epoch 6/100\n",
            "8000/8000 [==============================] - 0s 40us/step - loss: 0.3740 - acc: 0.8395\n",
            "Epoch 7/100\n",
            "8000/8000 [==============================] - 0s 37us/step - loss: 0.3644 - acc: 0.8489\n",
            "Epoch 8/100\n",
            "8000/8000 [==============================] - 0s 38us/step - loss: 0.3574 - acc: 0.8540\n",
            "Epoch 9/100\n",
            "8000/8000 [==============================] - 0s 38us/step - loss: 0.3533 - acc: 0.8548\n",
            "Epoch 10/100\n",
            "8000/8000 [==============================] - 0s 38us/step - loss: 0.3501 - acc: 0.8590\n",
            "Epoch 11/100\n",
            "8000/8000 [==============================] - 0s 38us/step - loss: 0.3482 - acc: 0.8585\n",
            "Epoch 12/100\n",
            "8000/8000 [==============================] - 0s 39us/step - loss: 0.3466 - acc: 0.8590\n",
            "Epoch 13/100\n",
            "8000/8000 [==============================] - 0s 38us/step - loss: 0.3456 - acc: 0.8601\n",
            "Epoch 14/100\n",
            "8000/8000 [==============================] - 0s 38us/step - loss: 0.3450 - acc: 0.8605\n",
            "Epoch 15/100\n",
            "8000/8000 [==============================] - 0s 38us/step - loss: 0.3442 - acc: 0.8605\n",
            "Epoch 16/100\n",
            "8000/8000 [==============================] - 0s 39us/step - loss: 0.3427 - acc: 0.8608\n",
            "Epoch 17/100\n",
            "8000/8000 [==============================] - 0s 37us/step - loss: 0.3424 - acc: 0.8610\n",
            "Epoch 18/100\n",
            "8000/8000 [==============================] - 0s 39us/step - loss: 0.3414 - acc: 0.8615\n",
            "Epoch 19/100\n",
            "8000/8000 [==============================] - 0s 37us/step - loss: 0.3405 - acc: 0.8614\n",
            "Epoch 20/100\n",
            "8000/8000 [==============================] - 0s 38us/step - loss: 0.3404 - acc: 0.8618\n",
            "Epoch 21/100\n",
            "8000/8000 [==============================] - 0s 38us/step - loss: 0.3396 - acc: 0.8622\n",
            "Epoch 22/100\n",
            "8000/8000 [==============================] - 0s 39us/step - loss: 0.3392 - acc: 0.8629\n",
            "Epoch 23/100\n",
            "8000/8000 [==============================] - 0s 38us/step - loss: 0.3389 - acc: 0.8616\n",
            "Epoch 24/100\n",
            "8000/8000 [==============================] - 0s 38us/step - loss: 0.3385 - acc: 0.8628\n",
            "Epoch 25/100\n",
            "8000/8000 [==============================] - 0s 38us/step - loss: 0.3383 - acc: 0.8621\n",
            "Epoch 26/100\n",
            "8000/8000 [==============================] - 0s 37us/step - loss: 0.3382 - acc: 0.8619\n",
            "Epoch 27/100\n",
            "8000/8000 [==============================] - 0s 40us/step - loss: 0.3375 - acc: 0.8635\n",
            "Epoch 28/100\n",
            "8000/8000 [==============================] - 0s 37us/step - loss: 0.3378 - acc: 0.8624\n",
            "Epoch 29/100\n",
            "8000/8000 [==============================] - 0s 38us/step - loss: 0.3372 - acc: 0.8634\n",
            "Epoch 30/100\n",
            "8000/8000 [==============================] - 0s 37us/step - loss: 0.3374 - acc: 0.8616\n",
            "Epoch 31/100\n",
            "8000/8000 [==============================] - 0s 38us/step - loss: 0.3369 - acc: 0.8626\n",
            "Epoch 32/100\n",
            "8000/8000 [==============================] - 0s 37us/step - loss: 0.3372 - acc: 0.8618\n",
            "Epoch 33/100\n",
            "8000/8000 [==============================] - 0s 37us/step - loss: 0.3368 - acc: 0.8614\n",
            "Epoch 34/100\n",
            "8000/8000 [==============================] - 0s 39us/step - loss: 0.3366 - acc: 0.8634\n",
            "Epoch 35/100\n",
            "8000/8000 [==============================] - 0s 37us/step - loss: 0.3364 - acc: 0.8630\n",
            "Epoch 36/100\n",
            "8000/8000 [==============================] - 0s 38us/step - loss: 0.3365 - acc: 0.8619\n",
            "Epoch 37/100\n",
            "8000/8000 [==============================] - 0s 38us/step - loss: 0.3361 - acc: 0.8626\n",
            "Epoch 38/100\n",
            "8000/8000 [==============================] - 0s 38us/step - loss: 0.3357 - acc: 0.8629\n",
            "Epoch 39/100\n",
            "8000/8000 [==============================] - 0s 39us/step - loss: 0.3359 - acc: 0.8638\n",
            "Epoch 40/100\n",
            "8000/8000 [==============================] - 0s 37us/step - loss: 0.3357 - acc: 0.8630\n",
            "Epoch 41/100\n",
            "8000/8000 [==============================] - 0s 38us/step - loss: 0.3357 - acc: 0.8624\n",
            "Epoch 42/100\n",
            "8000/8000 [==============================] - 0s 38us/step - loss: 0.3357 - acc: 0.8632\n",
            "Epoch 43/100\n",
            "8000/8000 [==============================] - 0s 38us/step - loss: 0.3356 - acc: 0.8632\n",
            "Epoch 44/100\n",
            "8000/8000 [==============================] - 0s 38us/step - loss: 0.3355 - acc: 0.8628\n",
            "Epoch 45/100\n",
            "8000/8000 [==============================] - 0s 38us/step - loss: 0.3356 - acc: 0.8638\n",
            "Epoch 46/100\n",
            "8000/8000 [==============================] - 0s 37us/step - loss: 0.3353 - acc: 0.8630\n",
            "Epoch 47/100\n",
            "8000/8000 [==============================] - 0s 38us/step - loss: 0.3352 - acc: 0.8632\n",
            "Epoch 48/100\n",
            "8000/8000 [==============================] - 0s 38us/step - loss: 0.3349 - acc: 0.8635\n",
            "Epoch 49/100\n",
            "8000/8000 [==============================] - 0s 37us/step - loss: 0.3348 - acc: 0.8631\n",
            "Epoch 50/100\n",
            "8000/8000 [==============================] - 0s 38us/step - loss: 0.3353 - acc: 0.8632\n",
            "Epoch 51/100\n",
            "8000/8000 [==============================] - 0s 38us/step - loss: 0.3345 - acc: 0.8634\n",
            "Epoch 52/100\n",
            "8000/8000 [==============================] - 0s 38us/step - loss: 0.3354 - acc: 0.8636\n",
            "Epoch 53/100\n",
            "8000/8000 [==============================] - 0s 38us/step - loss: 0.3348 - acc: 0.8632\n",
            "Epoch 54/100\n",
            "8000/8000 [==============================] - 0s 39us/step - loss: 0.3347 - acc: 0.8631\n",
            "Epoch 55/100\n",
            "8000/8000 [==============================] - 0s 38us/step - loss: 0.3341 - acc: 0.8638\n",
            "Epoch 56/100\n",
            "8000/8000 [==============================] - 0s 38us/step - loss: 0.3348 - acc: 0.8634\n",
            "Epoch 57/100\n",
            "8000/8000 [==============================] - 0s 38us/step - loss: 0.3347 - acc: 0.8641\n",
            "Epoch 58/100\n",
            "8000/8000 [==============================] - 0s 37us/step - loss: 0.3343 - acc: 0.8634\n",
            "Epoch 59/100\n",
            "8000/8000 [==============================] - 0s 37us/step - loss: 0.3346 - acc: 0.8626\n",
            "Epoch 60/100\n",
            "8000/8000 [==============================] - 0s 38us/step - loss: 0.3344 - acc: 0.8635\n",
            "Epoch 61/100\n",
            "8000/8000 [==============================] - 0s 40us/step - loss: 0.3346 - acc: 0.8621\n",
            "Epoch 62/100\n",
            "8000/8000 [==============================] - 0s 37us/step - loss: 0.3346 - acc: 0.8632\n",
            "Epoch 63/100\n",
            "8000/8000 [==============================] - 0s 37us/step - loss: 0.3342 - acc: 0.8632\n",
            "Epoch 64/100\n",
            "8000/8000 [==============================] - 0s 37us/step - loss: 0.3343 - acc: 0.8635\n",
            "Epoch 65/100\n",
            "8000/8000 [==============================] - 0s 37us/step - loss: 0.3341 - acc: 0.8644\n",
            "Epoch 66/100\n",
            "8000/8000 [==============================] - 0s 37us/step - loss: 0.3347 - acc: 0.8630\n",
            "Epoch 67/100\n",
            "8000/8000 [==============================] - 0s 37us/step - loss: 0.3343 - acc: 0.8640\n",
            "Epoch 68/100\n",
            "8000/8000 [==============================] - 0s 37us/step - loss: 0.3345 - acc: 0.8639\n",
            "Epoch 69/100\n",
            "8000/8000 [==============================] - 0s 38us/step - loss: 0.3343 - acc: 0.8624\n",
            "Epoch 70/100\n",
            "8000/8000 [==============================] - 0s 38us/step - loss: 0.3338 - acc: 0.8649\n",
            "Epoch 71/100\n",
            "8000/8000 [==============================] - 0s 38us/step - loss: 0.3343 - acc: 0.8636\n",
            "Epoch 72/100\n",
            "8000/8000 [==============================] - 0s 38us/step - loss: 0.3336 - acc: 0.8646\n",
            "Epoch 73/100\n",
            "8000/8000 [==============================] - 0s 37us/step - loss: 0.3345 - acc: 0.8646\n",
            "Epoch 74/100\n",
            "8000/8000 [==============================] - 0s 38us/step - loss: 0.3340 - acc: 0.8645\n",
            "Epoch 75/100\n",
            "8000/8000 [==============================] - 0s 38us/step - loss: 0.3342 - acc: 0.8640\n",
            "Epoch 76/100\n",
            "8000/8000 [==============================] - 0s 38us/step - loss: 0.3342 - acc: 0.8646\n",
            "Epoch 77/100\n",
            "8000/8000 [==============================] - 0s 38us/step - loss: 0.3335 - acc: 0.8646\n",
            "Epoch 78/100\n",
            "8000/8000 [==============================] - 0s 38us/step - loss: 0.3337 - acc: 0.8644\n",
            "Epoch 79/100\n",
            "8000/8000 [==============================] - 0s 37us/step - loss: 0.3337 - acc: 0.8636\n",
            "Epoch 80/100\n",
            "8000/8000 [==============================] - 0s 37us/step - loss: 0.3339 - acc: 0.8626\n",
            "Epoch 81/100\n",
            "8000/8000 [==============================] - 0s 37us/step - loss: 0.3337 - acc: 0.8628\n",
            "Epoch 82/100\n",
            "8000/8000 [==============================] - 0s 38us/step - loss: 0.3343 - acc: 0.8646\n",
            "Epoch 83/100\n",
            "8000/8000 [==============================] - 0s 38us/step - loss: 0.3338 - acc: 0.8631\n",
            "Epoch 84/100\n",
            "8000/8000 [==============================] - 0s 38us/step - loss: 0.3335 - acc: 0.8632\n",
            "Epoch 85/100\n",
            "8000/8000 [==============================] - 0s 38us/step - loss: 0.3334 - acc: 0.8644\n",
            "Epoch 86/100\n",
            "8000/8000 [==============================] - 0s 38us/step - loss: 0.3338 - acc: 0.8640\n",
            "Epoch 87/100\n",
            "8000/8000 [==============================] - 0s 38us/step - loss: 0.3336 - acc: 0.8636\n",
            "Epoch 88/100\n",
            "8000/8000 [==============================] - 0s 38us/step - loss: 0.3335 - acc: 0.8639\n",
            "Epoch 89/100\n",
            "8000/8000 [==============================] - 0s 37us/step - loss: 0.3333 - acc: 0.8635\n",
            "Epoch 90/100\n",
            "8000/8000 [==============================] - 0s 38us/step - loss: 0.3338 - acc: 0.8628\n",
            "Epoch 91/100\n",
            "8000/8000 [==============================] - 0s 37us/step - loss: 0.3335 - acc: 0.8642\n",
            "Epoch 92/100\n",
            "8000/8000 [==============================] - 0s 37us/step - loss: 0.3336 - acc: 0.8636\n",
            "Epoch 93/100\n",
            "8000/8000 [==============================] - 0s 38us/step - loss: 0.3334 - acc: 0.8638\n",
            "Epoch 94/100\n",
            "8000/8000 [==============================] - 0s 41us/step - loss: 0.3333 - acc: 0.8647\n",
            "Epoch 95/100\n",
            "8000/8000 [==============================] - 0s 37us/step - loss: 0.3336 - acc: 0.8652\n",
            "Epoch 96/100\n",
            "8000/8000 [==============================] - 0s 38us/step - loss: 0.3335 - acc: 0.8649\n",
            "Epoch 97/100\n",
            "8000/8000 [==============================] - 0s 38us/step - loss: 0.3338 - acc: 0.8641\n",
            "Epoch 98/100\n",
            "8000/8000 [==============================] - 0s 38us/step - loss: 0.3333 - acc: 0.8639\n",
            "Epoch 99/100\n",
            "8000/8000 [==============================] - 0s 37us/step - loss: 0.3332 - acc: 0.8640\n",
            "Epoch 100/100\n",
            "8000/8000 [==============================] - 0s 37us/step - loss: 0.3335 - acc: 0.8641\n"
          ],
          "name": "stdout"
        },
        {
          "output_type": "execute_result",
          "data": {
            "text/plain": [
              "<keras.callbacks.History at 0x7f78cd857c50>"
            ]
          },
          "metadata": {
            "tags": []
          },
          "execution_count": 249
        }
      ]
    },
    {
      "metadata": {
        "id": "x7kV5ZtonAcJ",
        "colab_type": "code",
        "colab": {}
      },
      "cell_type": "code",
      "source": [
        "y_pred_prob = classifier.predict(X_test)\n",
        "y_pred = (y_pred_prob > 0.5)"
      ],
      "execution_count": 0,
      "outputs": []
    },
    {
      "metadata": {
        "id": "lTnRs4sSnshL",
        "colab_type": "code",
        "colab": {}
      },
      "cell_type": "code",
      "source": [
        "cm = confusion_matrix(y_test, y_pred)"
      ],
      "execution_count": 0,
      "outputs": []
    },
    {
      "metadata": {
        "id": "ZK2bqPGxoRZe",
        "colab_type": "code",
        "colab": {
          "base_uri": "https://localhost:8080/",
          "height": 51
        },
        "outputId": "a627a810-b6c7-43e0-c12c-7e91c3aeead3"
      },
      "cell_type": "code",
      "source": [
        "cm"
      ],
      "execution_count": 252,
      "outputs": [
        {
          "output_type": "execute_result",
          "data": {
            "text/plain": [
              "array([[1526,   69],\n",
              "       [ 203,  202]])"
            ]
          },
          "metadata": {
            "tags": []
          },
          "execution_count": 252
        }
      ]
    },
    {
      "metadata": {
        "id": "R7J2ZFdnoasF",
        "colab_type": "code",
        "colab": {
          "base_uri": "https://localhost:8080/",
          "height": 34
        },
        "outputId": "1ec8b46d-80c9-4ad7-c04c-c5691f802fda"
      },
      "cell_type": "code",
      "source": [
        "accuracy = (cm[0][0] + cm[1][1])/ len(y_pred)\n",
        "accuracy"
      ],
      "execution_count": 253,
      "outputs": [
        {
          "output_type": "execute_result",
          "data": {
            "text/plain": [
              "0.864"
            ]
          },
          "metadata": {
            "tags": []
          },
          "execution_count": 253
        }
      ]
    },
    {
      "metadata": {
        "id": "diIiacvMyMmC",
        "colab_type": "code",
        "colab": {}
      },
      "cell_type": "code",
      "source": [
        "new_customer = [[600,40, 3, 60000, 2, 1, 1, 50000,1,0,0]]"
      ],
      "execution_count": 0,
      "outputs": []
    },
    {
      "metadata": {
        "id": "J0ycbfIp1LK6",
        "colab_type": "code",
        "colab": {}
      },
      "cell_type": "code",
      "source": [
        "new_customer = standard_scaler.transform(new_customer)"
      ],
      "execution_count": 0,
      "outputs": []
    },
    {
      "metadata": {
        "id": "n_b3gDbQ7gSd",
        "colab_type": "code",
        "colab": {
          "base_uri": "https://localhost:8080/",
          "height": 34
        },
        "outputId": "0e664957-4aea-4c20-cebf-4efd2ae2e726"
      },
      "cell_type": "code",
      "source": [
        "new_customer_pred_prob = classifier.predict(new_customer)\n",
        "new_customer_pred = (new_customer_pred_prob > 0.5)\n",
        "new_customer_pred"
      ],
      "execution_count": 256,
      "outputs": [
        {
          "output_type": "execute_result",
          "data": {
            "text/plain": [
              "array([[False]])"
            ]
          },
          "metadata": {
            "tags": []
          },
          "execution_count": 256
        }
      ]
    },
    {
      "metadata": {
        "id": "dWZqfYITTx-8",
        "colab_type": "text"
      },
      "cell_type": "markdown",
      "source": [
        "This is an exercise that correponds with the Deep Learning A-Z course on Udemy."
      ]
    }
  ]
}