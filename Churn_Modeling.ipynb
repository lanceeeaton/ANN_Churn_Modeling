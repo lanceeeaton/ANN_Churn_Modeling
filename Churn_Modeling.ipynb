{
  "nbformat": 4,
  "nbformat_minor": 0,
  "metadata": {
    "colab": {
      "name": "Churn_Modeling.ipynb",
      "version": "0.3.2",
      "provenance": [],
      "collapsed_sections": []
    },
    "kernelspec": {
      "name": "python3",
      "display_name": "Python 3"
    }
  },
  "cells": [
    {
      "cell_type": "code",
      "metadata": {
        "id": "vwkJhB9j1WcW",
        "colab_type": "code",
        "colab": {}
      },
      "source": [
        "import numpy as np\n",
        "import pandas as pd\n",
        "import matplotlib.pyplot as plt\n",
        "import keras\n",
        "from keras.wrappers.scikit_learn import KerasClassifier\n",
        "from keras.models import Sequential # init NN\n",
        "from keras.layers import Dense, Dropout # create layers in ANN\n",
        "from sklearn.preprocessing import StandardScaler\n",
        "from sklearn.model_selection import train_test_split, cross_val_score\n",
        "from sklearn.metrics import confusion_matrix\n",
        "import warnings\n",
        "warnings.filterwarnings('ignore', category=FutureWarning)"
      ],
      "execution_count": 0,
      "outputs": []
    },
    {
      "cell_type": "markdown",
      "metadata": {
        "id": "idomQocY0RYA",
        "colab_type": "text"
      },
      "source": [
        "## Getting Dataset"
      ]
    },
    {
      "cell_type": "code",
      "metadata": {
        "id": "O6Ti-uOG5ase",
        "colab_type": "code",
        "outputId": "105ca310-6cd5-4369-f2c9-645bb359712a",
        "colab": {
          "base_uri": "https://localhost:8080/",
          "height": 204
        }
      },
      "source": [
        "dataset = pd.read_csv('https://raw.githubusercontent.com/lanceeeaton/ANN_Churn_Modeling/master/Churn_Modelling.csv')\n",
        "dataset.head()"
      ],
      "execution_count": 74,
      "outputs": [
        {
          "output_type": "execute_result",
          "data": {
            "text/html": [
              "<div>\n",
              "<style scoped>\n",
              "    .dataframe tbody tr th:only-of-type {\n",
              "        vertical-align: middle;\n",
              "    }\n",
              "\n",
              "    .dataframe tbody tr th {\n",
              "        vertical-align: top;\n",
              "    }\n",
              "\n",
              "    .dataframe thead th {\n",
              "        text-align: right;\n",
              "    }\n",
              "</style>\n",
              "<table border=\"1\" class=\"dataframe\">\n",
              "  <thead>\n",
              "    <tr style=\"text-align: right;\">\n",
              "      <th></th>\n",
              "      <th>RowNumber</th>\n",
              "      <th>CustomerId</th>\n",
              "      <th>Surname</th>\n",
              "      <th>CreditScore</th>\n",
              "      <th>Geography</th>\n",
              "      <th>Gender</th>\n",
              "      <th>Age</th>\n",
              "      <th>Tenure</th>\n",
              "      <th>Balance</th>\n",
              "      <th>NumOfProducts</th>\n",
              "      <th>HasCrCard</th>\n",
              "      <th>IsActiveMember</th>\n",
              "      <th>EstimatedSalary</th>\n",
              "      <th>Exited</th>\n",
              "    </tr>\n",
              "  </thead>\n",
              "  <tbody>\n",
              "    <tr>\n",
              "      <th>0</th>\n",
              "      <td>1</td>\n",
              "      <td>15634602</td>\n",
              "      <td>Hargrave</td>\n",
              "      <td>619</td>\n",
              "      <td>France</td>\n",
              "      <td>Female</td>\n",
              "      <td>42</td>\n",
              "      <td>2</td>\n",
              "      <td>0.00</td>\n",
              "      <td>1</td>\n",
              "      <td>1</td>\n",
              "      <td>1</td>\n",
              "      <td>101348.88</td>\n",
              "      <td>1</td>\n",
              "    </tr>\n",
              "    <tr>\n",
              "      <th>1</th>\n",
              "      <td>2</td>\n",
              "      <td>15647311</td>\n",
              "      <td>Hill</td>\n",
              "      <td>608</td>\n",
              "      <td>Spain</td>\n",
              "      <td>Female</td>\n",
              "      <td>41</td>\n",
              "      <td>1</td>\n",
              "      <td>83807.86</td>\n",
              "      <td>1</td>\n",
              "      <td>0</td>\n",
              "      <td>1</td>\n",
              "      <td>112542.58</td>\n",
              "      <td>0</td>\n",
              "    </tr>\n",
              "    <tr>\n",
              "      <th>2</th>\n",
              "      <td>3</td>\n",
              "      <td>15619304</td>\n",
              "      <td>Onio</td>\n",
              "      <td>502</td>\n",
              "      <td>France</td>\n",
              "      <td>Female</td>\n",
              "      <td>42</td>\n",
              "      <td>8</td>\n",
              "      <td>159660.80</td>\n",
              "      <td>3</td>\n",
              "      <td>1</td>\n",
              "      <td>0</td>\n",
              "      <td>113931.57</td>\n",
              "      <td>1</td>\n",
              "    </tr>\n",
              "    <tr>\n",
              "      <th>3</th>\n",
              "      <td>4</td>\n",
              "      <td>15701354</td>\n",
              "      <td>Boni</td>\n",
              "      <td>699</td>\n",
              "      <td>France</td>\n",
              "      <td>Female</td>\n",
              "      <td>39</td>\n",
              "      <td>1</td>\n",
              "      <td>0.00</td>\n",
              "      <td>2</td>\n",
              "      <td>0</td>\n",
              "      <td>0</td>\n",
              "      <td>93826.63</td>\n",
              "      <td>0</td>\n",
              "    </tr>\n",
              "    <tr>\n",
              "      <th>4</th>\n",
              "      <td>5</td>\n",
              "      <td>15737888</td>\n",
              "      <td>Mitchell</td>\n",
              "      <td>850</td>\n",
              "      <td>Spain</td>\n",
              "      <td>Female</td>\n",
              "      <td>43</td>\n",
              "      <td>2</td>\n",
              "      <td>125510.82</td>\n",
              "      <td>1</td>\n",
              "      <td>1</td>\n",
              "      <td>1</td>\n",
              "      <td>79084.10</td>\n",
              "      <td>0</td>\n",
              "    </tr>\n",
              "  </tbody>\n",
              "</table>\n",
              "</div>"
            ],
            "text/plain": [
              "   RowNumber  CustomerId   Surname  CreditScore Geography  Gender  Age  \\\n",
              "0          1    15634602  Hargrave          619    France  Female   42   \n",
              "1          2    15647311      Hill          608     Spain  Female   41   \n",
              "2          3    15619304      Onio          502    France  Female   42   \n",
              "3          4    15701354      Boni          699    France  Female   39   \n",
              "4          5    15737888  Mitchell          850     Spain  Female   43   \n",
              "\n",
              "   Tenure    Balance  NumOfProducts  HasCrCard  IsActiveMember  \\\n",
              "0       2       0.00              1          1               1   \n",
              "1       1   83807.86              1          0               1   \n",
              "2       8  159660.80              3          1               0   \n",
              "3       1       0.00              2          0               0   \n",
              "4       2  125510.82              1          1               1   \n",
              "\n",
              "   EstimatedSalary  Exited  \n",
              "0        101348.88       1  \n",
              "1        112542.58       0  \n",
              "2        113931.57       1  \n",
              "3         93826.63       0  \n",
              "4         79084.10       0  "
            ]
          },
          "metadata": {
            "tags": []
          },
          "execution_count": 74
        }
      ]
    },
    {
      "cell_type": "markdown",
      "metadata": {
        "id": "iFsLYwhg0WVt",
        "colab_type": "text"
      },
      "source": [
        "## Checking for missing values"
      ]
    },
    {
      "cell_type": "code",
      "metadata": {
        "id": "3yDClQnKAMTo",
        "colab_type": "code",
        "outputId": "e56a5747-aab4-410e-c645-6f897796ebb3",
        "colab": {
          "base_uri": "https://localhost:8080/",
          "height": 34
        }
      },
      "source": [
        "dataset.isnull().values.any()"
      ],
      "execution_count": 75,
      "outputs": [
        {
          "output_type": "execute_result",
          "data": {
            "text/plain": [
              "False"
            ]
          },
          "metadata": {
            "tags": []
          },
          "execution_count": 75
        }
      ]
    },
    {
      "cell_type": "markdown",
      "metadata": {
        "id": "k5s5w5zZz_mn",
        "colab_type": "text"
      },
      "source": [
        "## Defining independent variables X and dependent variable y"
      ]
    },
    {
      "cell_type": "code",
      "metadata": {
        "id": "XixDwqekAlg-",
        "colab_type": "code",
        "colab": {}
      },
      "source": [
        "X = dataset.iloc[:,3:13]\n",
        "y = dataset.iloc[:,-1].values"
      ],
      "execution_count": 0,
      "outputs": []
    },
    {
      "cell_type": "markdown",
      "metadata": {
        "id": "-LyWzIVV0xxF",
        "colab_type": "text"
      },
      "source": [
        "## Looking at X"
      ]
    },
    {
      "cell_type": "code",
      "metadata": {
        "id": "cwZpZ4zjBOIA",
        "colab_type": "code",
        "outputId": "b5de4972-afff-488e-e702-c5e5f8a9cfcf",
        "colab": {
          "base_uri": "https://localhost:8080/",
          "height": 204
        }
      },
      "source": [
        "X.head()"
      ],
      "execution_count": 84,
      "outputs": [
        {
          "output_type": "execute_result",
          "data": {
            "text/html": [
              "<div>\n",
              "<style scoped>\n",
              "    .dataframe tbody tr th:only-of-type {\n",
              "        vertical-align: middle;\n",
              "    }\n",
              "\n",
              "    .dataframe tbody tr th {\n",
              "        vertical-align: top;\n",
              "    }\n",
              "\n",
              "    .dataframe thead th {\n",
              "        text-align: right;\n",
              "    }\n",
              "</style>\n",
              "<table border=\"1\" class=\"dataframe\">\n",
              "  <thead>\n",
              "    <tr style=\"text-align: right;\">\n",
              "      <th></th>\n",
              "      <th>CreditScore</th>\n",
              "      <th>Geography</th>\n",
              "      <th>Gender</th>\n",
              "      <th>Age</th>\n",
              "      <th>Tenure</th>\n",
              "      <th>Balance</th>\n",
              "      <th>NumOfProducts</th>\n",
              "      <th>HasCrCard</th>\n",
              "      <th>IsActiveMember</th>\n",
              "      <th>EstimatedSalary</th>\n",
              "    </tr>\n",
              "  </thead>\n",
              "  <tbody>\n",
              "    <tr>\n",
              "      <th>0</th>\n",
              "      <td>619</td>\n",
              "      <td>France</td>\n",
              "      <td>Female</td>\n",
              "      <td>42</td>\n",
              "      <td>2</td>\n",
              "      <td>0.00</td>\n",
              "      <td>1</td>\n",
              "      <td>1</td>\n",
              "      <td>1</td>\n",
              "      <td>101348.88</td>\n",
              "    </tr>\n",
              "    <tr>\n",
              "      <th>1</th>\n",
              "      <td>608</td>\n",
              "      <td>Spain</td>\n",
              "      <td>Female</td>\n",
              "      <td>41</td>\n",
              "      <td>1</td>\n",
              "      <td>83807.86</td>\n",
              "      <td>1</td>\n",
              "      <td>0</td>\n",
              "      <td>1</td>\n",
              "      <td>112542.58</td>\n",
              "    </tr>\n",
              "    <tr>\n",
              "      <th>2</th>\n",
              "      <td>502</td>\n",
              "      <td>France</td>\n",
              "      <td>Female</td>\n",
              "      <td>42</td>\n",
              "      <td>8</td>\n",
              "      <td>159660.80</td>\n",
              "      <td>3</td>\n",
              "      <td>1</td>\n",
              "      <td>0</td>\n",
              "      <td>113931.57</td>\n",
              "    </tr>\n",
              "    <tr>\n",
              "      <th>3</th>\n",
              "      <td>699</td>\n",
              "      <td>France</td>\n",
              "      <td>Female</td>\n",
              "      <td>39</td>\n",
              "      <td>1</td>\n",
              "      <td>0.00</td>\n",
              "      <td>2</td>\n",
              "      <td>0</td>\n",
              "      <td>0</td>\n",
              "      <td>93826.63</td>\n",
              "    </tr>\n",
              "    <tr>\n",
              "      <th>4</th>\n",
              "      <td>850</td>\n",
              "      <td>Spain</td>\n",
              "      <td>Female</td>\n",
              "      <td>43</td>\n",
              "      <td>2</td>\n",
              "      <td>125510.82</td>\n",
              "      <td>1</td>\n",
              "      <td>1</td>\n",
              "      <td>1</td>\n",
              "      <td>79084.10</td>\n",
              "    </tr>\n",
              "  </tbody>\n",
              "</table>\n",
              "</div>"
            ],
            "text/plain": [
              "   CreditScore Geography  Gender  Age  Tenure    Balance  NumOfProducts  \\\n",
              "0          619    France  Female   42       2       0.00              1   \n",
              "1          608     Spain  Female   41       1   83807.86              1   \n",
              "2          502    France  Female   42       8  159660.80              3   \n",
              "3          699    France  Female   39       1       0.00              2   \n",
              "4          850     Spain  Female   43       2  125510.82              1   \n",
              "\n",
              "   HasCrCard  IsActiveMember  EstimatedSalary  \n",
              "0          1               1        101348.88  \n",
              "1          0               1        112542.58  \n",
              "2          1               0        113931.57  \n",
              "3          0               0         93826.63  \n",
              "4          1               1         79084.10  "
            ]
          },
          "metadata": {
            "tags": []
          },
          "execution_count": 84
        }
      ]
    },
    {
      "cell_type": "markdown",
      "metadata": {
        "id": "blPdLt-s010Q",
        "colab_type": "text"
      },
      "source": [
        "## Looking at y"
      ]
    },
    {
      "cell_type": "code",
      "metadata": {
        "id": "Y4RVhaMrCpKL",
        "colab_type": "code",
        "outputId": "bc5ba13f-9a51-415f-ef44-34ebc75a7d72",
        "colab": {
          "base_uri": "https://localhost:8080/",
          "height": 34
        }
      },
      "source": [
        "y[:5]"
      ],
      "execution_count": 85,
      "outputs": [
        {
          "output_type": "execute_result",
          "data": {
            "text/plain": [
              "array([1, 0, 1, 0, 0])"
            ]
          },
          "metadata": {
            "tags": []
          },
          "execution_count": 85
        }
      ]
    },
    {
      "cell_type": "markdown",
      "metadata": {
        "id": "0SBkPgLKPW_S",
        "colab_type": "text"
      },
      "source": [
        "## Encoding Categorical Vars, Making Dummy Vars and avoiding Dummy var Trap"
      ]
    },
    {
      "cell_type": "code",
      "metadata": {
        "id": "JFDxaOn3kLWt",
        "colab_type": "code",
        "colab": {}
      },
      "source": [
        "X = pd.get_dummies(X, columns = ['Geography','Gender'])\n",
        "X = X.drop(columns=['Geography_Spain', 'Gender_Male'])"
      ],
      "execution_count": 0,
      "outputs": []
    },
    {
      "cell_type": "markdown",
      "metadata": {
        "id": "cRKFvUvi08By",
        "colab_type": "text"
      },
      "source": [
        "## Looking at X again"
      ]
    },
    {
      "cell_type": "code",
      "metadata": {
        "id": "FvXdSeTqMyOn",
        "colab_type": "code",
        "outputId": "df9c9a71-ec02-4c6f-a746-af5a1dbb765e",
        "colab": {
          "base_uri": "https://localhost:8080/",
          "height": 204
        }
      },
      "source": [
        "X.head()"
      ],
      "execution_count": 87,
      "outputs": [
        {
          "output_type": "execute_result",
          "data": {
            "text/html": [
              "<div>\n",
              "<style scoped>\n",
              "    .dataframe tbody tr th:only-of-type {\n",
              "        vertical-align: middle;\n",
              "    }\n",
              "\n",
              "    .dataframe tbody tr th {\n",
              "        vertical-align: top;\n",
              "    }\n",
              "\n",
              "    .dataframe thead th {\n",
              "        text-align: right;\n",
              "    }\n",
              "</style>\n",
              "<table border=\"1\" class=\"dataframe\">\n",
              "  <thead>\n",
              "    <tr style=\"text-align: right;\">\n",
              "      <th></th>\n",
              "      <th>CreditScore</th>\n",
              "      <th>Age</th>\n",
              "      <th>Tenure</th>\n",
              "      <th>Balance</th>\n",
              "      <th>NumOfProducts</th>\n",
              "      <th>HasCrCard</th>\n",
              "      <th>IsActiveMember</th>\n",
              "      <th>EstimatedSalary</th>\n",
              "      <th>Geography_France</th>\n",
              "      <th>Geography_Germany</th>\n",
              "      <th>Gender_Female</th>\n",
              "    </tr>\n",
              "  </thead>\n",
              "  <tbody>\n",
              "    <tr>\n",
              "      <th>0</th>\n",
              "      <td>619</td>\n",
              "      <td>42</td>\n",
              "      <td>2</td>\n",
              "      <td>0.00</td>\n",
              "      <td>1</td>\n",
              "      <td>1</td>\n",
              "      <td>1</td>\n",
              "      <td>101348.88</td>\n",
              "      <td>1</td>\n",
              "      <td>0</td>\n",
              "      <td>1</td>\n",
              "    </tr>\n",
              "    <tr>\n",
              "      <th>1</th>\n",
              "      <td>608</td>\n",
              "      <td>41</td>\n",
              "      <td>1</td>\n",
              "      <td>83807.86</td>\n",
              "      <td>1</td>\n",
              "      <td>0</td>\n",
              "      <td>1</td>\n",
              "      <td>112542.58</td>\n",
              "      <td>0</td>\n",
              "      <td>0</td>\n",
              "      <td>1</td>\n",
              "    </tr>\n",
              "    <tr>\n",
              "      <th>2</th>\n",
              "      <td>502</td>\n",
              "      <td>42</td>\n",
              "      <td>8</td>\n",
              "      <td>159660.80</td>\n",
              "      <td>3</td>\n",
              "      <td>1</td>\n",
              "      <td>0</td>\n",
              "      <td>113931.57</td>\n",
              "      <td>1</td>\n",
              "      <td>0</td>\n",
              "      <td>1</td>\n",
              "    </tr>\n",
              "    <tr>\n",
              "      <th>3</th>\n",
              "      <td>699</td>\n",
              "      <td>39</td>\n",
              "      <td>1</td>\n",
              "      <td>0.00</td>\n",
              "      <td>2</td>\n",
              "      <td>0</td>\n",
              "      <td>0</td>\n",
              "      <td>93826.63</td>\n",
              "      <td>1</td>\n",
              "      <td>0</td>\n",
              "      <td>1</td>\n",
              "    </tr>\n",
              "    <tr>\n",
              "      <th>4</th>\n",
              "      <td>850</td>\n",
              "      <td>43</td>\n",
              "      <td>2</td>\n",
              "      <td>125510.82</td>\n",
              "      <td>1</td>\n",
              "      <td>1</td>\n",
              "      <td>1</td>\n",
              "      <td>79084.10</td>\n",
              "      <td>0</td>\n",
              "      <td>0</td>\n",
              "      <td>1</td>\n",
              "    </tr>\n",
              "  </tbody>\n",
              "</table>\n",
              "</div>"
            ],
            "text/plain": [
              "   CreditScore  Age  Tenure    Balance  NumOfProducts  HasCrCard  \\\n",
              "0          619   42       2       0.00              1          1   \n",
              "1          608   41       1   83807.86              1          0   \n",
              "2          502   42       8  159660.80              3          1   \n",
              "3          699   39       1       0.00              2          0   \n",
              "4          850   43       2  125510.82              1          1   \n",
              "\n",
              "   IsActiveMember  EstimatedSalary  Geography_France  Geography_Germany  \\\n",
              "0               1        101348.88                 1                  0   \n",
              "1               1        112542.58                 0                  0   \n",
              "2               0        113931.57                 1                  0   \n",
              "3               0         93826.63                 1                  0   \n",
              "4               1         79084.10                 0                  0   \n",
              "\n",
              "   Gender_Female  \n",
              "0              1  \n",
              "1              1  \n",
              "2              1  \n",
              "3              1  \n",
              "4              1  "
            ]
          },
          "metadata": {
            "tags": []
          },
          "execution_count": 87
        }
      ]
    },
    {
      "cell_type": "markdown",
      "metadata": {
        "id": "IHpGCdm-jnzO",
        "colab_type": "text"
      },
      "source": [
        "##Converting to float to avoid warning"
      ]
    },
    {
      "cell_type": "code",
      "metadata": {
        "id": "X-cKP1Jgjj3Q",
        "colab_type": "code",
        "colab": {}
      },
      "source": [
        "X = X.astype(float)"
      ],
      "execution_count": 0,
      "outputs": []
    },
    {
      "cell_type": "markdown",
      "metadata": {
        "id": "CSyx_3HNRWDP",
        "colab_type": "text"
      },
      "source": [
        "## Spliting"
      ]
    },
    {
      "cell_type": "code",
      "metadata": {
        "id": "jZZBpSzIRQr3",
        "colab_type": "code",
        "colab": {}
      },
      "source": [
        "X_train, X_test, y_train, y_test = train_test_split(X, y, test_size = 0.2, random_state = 0)"
      ],
      "execution_count": 0,
      "outputs": []
    },
    {
      "cell_type": "markdown",
      "metadata": {
        "id": "7CzRWA2cRwkj",
        "colab_type": "text"
      },
      "source": [
        "## Feature Scaling"
      ]
    },
    {
      "cell_type": "code",
      "metadata": {
        "id": "hn6RqDbORZNW",
        "colab_type": "code",
        "colab": {}
      },
      "source": [
        "standard_scaler = StandardScaler()\n",
        "X_train = standard_scaler.fit_transform(X_train)\n",
        "X_test = standard_scaler.transform(X_test)"
      ],
      "execution_count": 0,
      "outputs": []
    },
    {
      "cell_type": "markdown",
      "metadata": {
        "id": "1dgEAI2sta1v",
        "colab_type": "text"
      },
      "source": [
        "## Building our ANN"
      ]
    },
    {
      "cell_type": "code",
      "metadata": {
        "id": "1czpfiYeZvwW",
        "colab_type": "code",
        "colab": {}
      },
      "source": [
        "def build_classifier():\n",
        "  \"\"\"Builds ANN classifier with 11 input neurons, 2 hidden layers each with 7 neurons (rectifier function) and 1 output neuron (sigmoid function)\"\"\"\n",
        "  classifier = Sequential()\n",
        "  classifier.add(Dense(activation ='relu', input_dim = 11, units = 7, kernel_initializer ='uniform')) # units = 2/3(num input nodes + num output nodes)\n",
        "  classifier.add(Dense(activation ='relu', units = 7, kernel_initializer ='uniform')) # 2nd hidden layer\n",
        "  classifier.add(Dense(activation ='sigmoid', units = 1, kernel_initializer ='uniform')) # out layer\n",
        "  classifier.compile(optimizer = 'adam', loss = 'binary_crossentropy', metrics =['accuracy']) # telling it to use stochastic gradient descent, and cross-entropy loss for a binary output\n",
        "  return classifier\n",
        "\n",
        "classifier = KerasClassifier(build_fn = build_classifier, batch_size = 32, epochs = 100)"
      ],
      "execution_count": 0,
      "outputs": []
    },
    {
      "cell_type": "markdown",
      "metadata": {
        "id": "0F1e3MHPtgNf",
        "colab_type": "text"
      },
      "source": [
        "## Getting our  accuracy scores, for 10 Fold Cross Validation"
      ]
    },
    {
      "cell_type": "code",
      "metadata": {
        "id": "4--nROrkJjzR",
        "colab_type": "code",
        "colab": {
          "base_uri": "https://localhost:8080/",
          "height": 51
        },
        "outputId": "5ece92ac-b24a-443d-9518-9b040d1f3fe6"
      },
      "source": [
        "scores = cross_val_score(estimator = classifier, X = X_train, y = y_train, cv = 10, n_jobs = -1)\n",
        "scores"
      ],
      "execution_count": 92,
      "outputs": [
        {
          "output_type": "execute_result",
          "data": {
            "text/plain": [
              "array([0.855  , 0.8375 , 0.8775 , 0.84   , 0.85375, 0.83625, 0.8325 ,\n",
              "       0.85375, 0.8125 , 0.8425 ])"
            ]
          },
          "metadata": {
            "tags": []
          },
          "execution_count": 92
        }
      ]
    },
    {
      "cell_type": "markdown",
      "metadata": {
        "id": "XkvdIKxku7E0",
        "colab_type": "text"
      },
      "source": [
        "## The average accuracy score"
      ]
    },
    {
      "cell_type": "code",
      "metadata": {
        "id": "_Mwnd9b5MF5i",
        "colab_type": "code",
        "outputId": "1f43939f-76f9-4898-c2cf-9b0f5c2564a9",
        "colab": {
          "base_uri": "https://localhost:8080/",
          "height": 34
        }
      },
      "source": [
        "scores.mean()"
      ],
      "execution_count": 93,
      "outputs": [
        {
          "output_type": "execute_result",
          "data": {
            "text/plain": [
              "0.8441249999999998"
            ]
          },
          "metadata": {
            "tags": []
          },
          "execution_count": 93
        }
      ]
    },
    {
      "cell_type": "markdown",
      "metadata": {
        "id": "wi2_a7HAw3ws",
        "colab_type": "text"
      },
      "source": [
        "## Training our classifier, and predicting on test set"
      ]
    },
    {
      "cell_type": "code",
      "metadata": {
        "id": "x7kV5ZtonAcJ",
        "colab_type": "code",
        "colab": {
          "base_uri": "https://localhost:8080/",
          "height": 3417
        },
        "outputId": "4f1beb69-5f58-4581-f35c-7596ef10a394"
      },
      "source": [
        "classifier.fit(X_train, y_train)\n",
        "y_pred_prob = classifier.predict(X_test)\n",
        "y_pred = (y_pred_prob > 0.5)"
      ],
      "execution_count": 94,
      "outputs": [
        {
          "output_type": "stream",
          "text": [
            "Epoch 1/100\n",
            "8000/8000 [==============================] - 1s 89us/step - loss: 0.5565 - acc: 0.7953\n",
            "Epoch 2/100\n",
            "8000/8000 [==============================] - 0s 35us/step - loss: 0.4346 - acc: 0.7960\n",
            "Epoch 3/100\n",
            "8000/8000 [==============================] - 0s 34us/step - loss: 0.4275 - acc: 0.7960\n",
            "Epoch 4/100\n",
            "8000/8000 [==============================] - 0s 34us/step - loss: 0.4218 - acc: 0.8006\n",
            "Epoch 5/100\n",
            "8000/8000 [==============================] - 0s 34us/step - loss: 0.4170 - acc: 0.8257\n",
            "Epoch 6/100\n",
            "8000/8000 [==============================] - 0s 35us/step - loss: 0.4127 - acc: 0.8299\n",
            "Epoch 7/100\n",
            "8000/8000 [==============================] - 0s 35us/step - loss: 0.4102 - acc: 0.8316\n",
            "Epoch 8/100\n",
            "8000/8000 [==============================] - 0s 34us/step - loss: 0.4079 - acc: 0.8329\n",
            "Epoch 9/100\n",
            "8000/8000 [==============================] - 0s 34us/step - loss: 0.4062 - acc: 0.8345\n",
            "Epoch 10/100\n",
            "8000/8000 [==============================] - 0s 34us/step - loss: 0.4046 - acc: 0.8342\n",
            "Epoch 11/100\n",
            "8000/8000 [==============================] - 0s 34us/step - loss: 0.4030 - acc: 0.8354\n",
            "Epoch 12/100\n",
            "8000/8000 [==============================] - 0s 34us/step - loss: 0.4023 - acc: 0.8326\n",
            "Epoch 13/100\n",
            "8000/8000 [==============================] - 0s 34us/step - loss: 0.4014 - acc: 0.8330\n",
            "Epoch 14/100\n",
            "8000/8000 [==============================] - 0s 35us/step - loss: 0.4006 - acc: 0.8322\n",
            "Epoch 15/100\n",
            "8000/8000 [==============================] - 0s 35us/step - loss: 0.3998 - acc: 0.8355\n",
            "Epoch 16/100\n",
            "8000/8000 [==============================] - 0s 35us/step - loss: 0.3993 - acc: 0.8341\n",
            "Epoch 17/100\n",
            "8000/8000 [==============================] - 0s 34us/step - loss: 0.3987 - acc: 0.8355\n",
            "Epoch 18/100\n",
            "8000/8000 [==============================] - 0s 35us/step - loss: 0.3980 - acc: 0.8339\n",
            "Epoch 19/100\n",
            "8000/8000 [==============================] - 0s 35us/step - loss: 0.3977 - acc: 0.8354\n",
            "Epoch 20/100\n",
            "8000/8000 [==============================] - 0s 35us/step - loss: 0.3972 - acc: 0.8348\n",
            "Epoch 21/100\n",
            "8000/8000 [==============================] - 0s 34us/step - loss: 0.3973 - acc: 0.8349\n",
            "Epoch 22/100\n",
            "8000/8000 [==============================] - 0s 34us/step - loss: 0.3967 - acc: 0.8346\n",
            "Epoch 23/100\n",
            "8000/8000 [==============================] - 0s 35us/step - loss: 0.3967 - acc: 0.8359\n",
            "Epoch 24/100\n",
            "8000/8000 [==============================] - 0s 34us/step - loss: 0.3962 - acc: 0.8369\n",
            "Epoch 25/100\n",
            "8000/8000 [==============================] - 0s 34us/step - loss: 0.3962 - acc: 0.8369\n",
            "Epoch 26/100\n",
            "8000/8000 [==============================] - 0s 34us/step - loss: 0.3957 - acc: 0.8350\n",
            "Epoch 27/100\n",
            "8000/8000 [==============================] - 0s 35us/step - loss: 0.3956 - acc: 0.8341\n",
            "Epoch 28/100\n",
            "8000/8000 [==============================] - 0s 35us/step - loss: 0.3954 - acc: 0.8359\n",
            "Epoch 29/100\n",
            "8000/8000 [==============================] - 0s 35us/step - loss: 0.3955 - acc: 0.8350\n",
            "Epoch 30/100\n",
            "8000/8000 [==============================] - 0s 34us/step - loss: 0.3952 - acc: 0.8370\n",
            "Epoch 31/100\n",
            "8000/8000 [==============================] - 0s 34us/step - loss: 0.3952 - acc: 0.8360\n",
            "Epoch 32/100\n",
            "8000/8000 [==============================] - 0s 34us/step - loss: 0.3950 - acc: 0.8359\n",
            "Epoch 33/100\n",
            "8000/8000 [==============================] - 0s 34us/step - loss: 0.3948 - acc: 0.8360\n",
            "Epoch 34/100\n",
            "8000/8000 [==============================] - 0s 34us/step - loss: 0.3950 - acc: 0.8354\n",
            "Epoch 35/100\n",
            "8000/8000 [==============================] - 0s 34us/step - loss: 0.3944 - acc: 0.8359\n",
            "Epoch 36/100\n",
            "8000/8000 [==============================] - 0s 37us/step - loss: 0.3946 - acc: 0.8365\n",
            "Epoch 37/100\n",
            "8000/8000 [==============================] - 0s 34us/step - loss: 0.3942 - acc: 0.8360\n",
            "Epoch 38/100\n",
            "8000/8000 [==============================] - 0s 34us/step - loss: 0.3941 - acc: 0.8369\n",
            "Epoch 39/100\n",
            "8000/8000 [==============================] - 0s 34us/step - loss: 0.3940 - acc: 0.8380\n",
            "Epoch 40/100\n",
            "8000/8000 [==============================] - 0s 34us/step - loss: 0.3938 - acc: 0.8351\n",
            "Epoch 41/100\n",
            "8000/8000 [==============================] - 0s 35us/step - loss: 0.3938 - acc: 0.8381\n",
            "Epoch 42/100\n",
            "8000/8000 [==============================] - 0s 34us/step - loss: 0.3941 - acc: 0.8361\n",
            "Epoch 43/100\n",
            "8000/8000 [==============================] - 0s 34us/step - loss: 0.3938 - acc: 0.8356\n",
            "Epoch 44/100\n",
            "8000/8000 [==============================] - 0s 34us/step - loss: 0.3938 - acc: 0.8354\n",
            "Epoch 45/100\n",
            "8000/8000 [==============================] - 0s 34us/step - loss: 0.3934 - acc: 0.8359\n",
            "Epoch 46/100\n",
            "8000/8000 [==============================] - 0s 34us/step - loss: 0.3936 - acc: 0.8349\n",
            "Epoch 47/100\n",
            "8000/8000 [==============================] - 0s 34us/step - loss: 0.3933 - acc: 0.8353\n",
            "Epoch 48/100\n",
            "8000/8000 [==============================] - 0s 34us/step - loss: 0.3933 - acc: 0.8369\n",
            "Epoch 49/100\n",
            "8000/8000 [==============================] - 0s 35us/step - loss: 0.3937 - acc: 0.8359\n",
            "Epoch 50/100\n",
            "8000/8000 [==============================] - 0s 35us/step - loss: 0.3933 - acc: 0.8369\n",
            "Epoch 51/100\n",
            "8000/8000 [==============================] - 0s 35us/step - loss: 0.3931 - acc: 0.8355\n",
            "Epoch 52/100\n",
            "8000/8000 [==============================] - 0s 34us/step - loss: 0.3932 - acc: 0.8361\n",
            "Epoch 53/100\n",
            "8000/8000 [==============================] - 0s 34us/step - loss: 0.3932 - acc: 0.8369\n",
            "Epoch 54/100\n",
            "8000/8000 [==============================] - 0s 34us/step - loss: 0.3935 - acc: 0.8357\n",
            "Epoch 55/100\n",
            "8000/8000 [==============================] - 0s 35us/step - loss: 0.3933 - acc: 0.8375\n",
            "Epoch 56/100\n",
            "8000/8000 [==============================] - 0s 35us/step - loss: 0.3933 - acc: 0.8361\n",
            "Epoch 57/100\n",
            "8000/8000 [==============================] - 0s 35us/step - loss: 0.3931 - acc: 0.8346\n",
            "Epoch 58/100\n",
            "8000/8000 [==============================] - 0s 35us/step - loss: 0.3930 - acc: 0.8346\n",
            "Epoch 59/100\n",
            "8000/8000 [==============================] - 0s 35us/step - loss: 0.3931 - acc: 0.8373\n",
            "Epoch 60/100\n",
            "8000/8000 [==============================] - 0s 35us/step - loss: 0.3927 - acc: 0.8361\n",
            "Epoch 61/100\n",
            "8000/8000 [==============================] - 0s 35us/step - loss: 0.3933 - acc: 0.8365\n",
            "Epoch 62/100\n",
            "8000/8000 [==============================] - 0s 35us/step - loss: 0.3929 - acc: 0.8353\n",
            "Epoch 63/100\n",
            "8000/8000 [==============================] - 0s 34us/step - loss: 0.3934 - acc: 0.8345\n",
            "Epoch 64/100\n",
            "8000/8000 [==============================] - 0s 34us/step - loss: 0.3929 - acc: 0.8371\n",
            "Epoch 65/100\n",
            "8000/8000 [==============================] - 0s 35us/step - loss: 0.3930 - acc: 0.8373\n",
            "Epoch 66/100\n",
            "8000/8000 [==============================] - 0s 34us/step - loss: 0.3929 - acc: 0.8366\n",
            "Epoch 67/100\n",
            "8000/8000 [==============================] - 0s 35us/step - loss: 0.3927 - acc: 0.8374\n",
            "Epoch 68/100\n",
            "8000/8000 [==============================] - 0s 35us/step - loss: 0.3931 - acc: 0.8360\n",
            "Epoch 69/100\n",
            "8000/8000 [==============================] - 0s 34us/step - loss: 0.3930 - acc: 0.8369\n",
            "Epoch 70/100\n",
            "8000/8000 [==============================] - 0s 35us/step - loss: 0.3927 - acc: 0.8365\n",
            "Epoch 71/100\n",
            "8000/8000 [==============================] - 0s 34us/step - loss: 0.3930 - acc: 0.8373\n",
            "Epoch 72/100\n",
            "8000/8000 [==============================] - 0s 37us/step - loss: 0.3933 - acc: 0.8375\n",
            "Epoch 73/100\n",
            "8000/8000 [==============================] - 0s 35us/step - loss: 0.3924 - acc: 0.8367\n",
            "Epoch 74/100\n",
            "8000/8000 [==============================] - 0s 35us/step - loss: 0.3927 - acc: 0.8363\n",
            "Epoch 75/100\n",
            "8000/8000 [==============================] - 0s 34us/step - loss: 0.3935 - acc: 0.8374\n",
            "Epoch 76/100\n",
            "8000/8000 [==============================] - 0s 35us/step - loss: 0.3929 - acc: 0.8367\n",
            "Epoch 77/100\n",
            "8000/8000 [==============================] - 0s 35us/step - loss: 0.3928 - acc: 0.8381\n",
            "Epoch 78/100\n",
            "8000/8000 [==============================] - 0s 34us/step - loss: 0.3923 - acc: 0.8359\n",
            "Epoch 79/100\n",
            "8000/8000 [==============================] - 0s 35us/step - loss: 0.3924 - acc: 0.8374\n",
            "Epoch 80/100\n",
            "8000/8000 [==============================] - 0s 34us/step - loss: 0.3924 - acc: 0.8375\n",
            "Epoch 81/100\n",
            "8000/8000 [==============================] - 0s 34us/step - loss: 0.3924 - acc: 0.8391\n",
            "Epoch 82/100\n",
            "8000/8000 [==============================] - 0s 35us/step - loss: 0.3926 - acc: 0.8366\n",
            "Epoch 83/100\n",
            "8000/8000 [==============================] - 0s 35us/step - loss: 0.3918 - acc: 0.8365\n",
            "Epoch 84/100\n",
            "8000/8000 [==============================] - 0s 34us/step - loss: 0.3926 - acc: 0.8385\n",
            "Epoch 85/100\n",
            "8000/8000 [==============================] - 0s 35us/step - loss: 0.3922 - acc: 0.8377\n",
            "Epoch 86/100\n",
            "8000/8000 [==============================] - 0s 35us/step - loss: 0.3925 - acc: 0.8390\n",
            "Epoch 87/100\n",
            "8000/8000 [==============================] - 0s 35us/step - loss: 0.3922 - acc: 0.8361\n",
            "Epoch 88/100\n",
            "8000/8000 [==============================] - 0s 35us/step - loss: 0.3923 - acc: 0.8377\n",
            "Epoch 89/100\n",
            "8000/8000 [==============================] - 0s 36us/step - loss: 0.3918 - acc: 0.8376\n",
            "Epoch 90/100\n",
            "8000/8000 [==============================] - 0s 36us/step - loss: 0.3920 - acc: 0.8373\n",
            "Epoch 91/100\n",
            "8000/8000 [==============================] - 0s 36us/step - loss: 0.3919 - acc: 0.8373\n",
            "Epoch 92/100\n",
            "8000/8000 [==============================] - 0s 37us/step - loss: 0.3917 - acc: 0.8377\n",
            "Epoch 93/100\n",
            "8000/8000 [==============================] - 0s 37us/step - loss: 0.3918 - acc: 0.8374\n",
            "Epoch 94/100\n",
            "8000/8000 [==============================] - 0s 36us/step - loss: 0.3915 - acc: 0.8381\n",
            "Epoch 95/100\n",
            "8000/8000 [==============================] - 0s 37us/step - loss: 0.3918 - acc: 0.8394\n",
            "Epoch 96/100\n",
            "8000/8000 [==============================] - 0s 36us/step - loss: 0.3919 - acc: 0.8375\n",
            "Epoch 97/100\n",
            "8000/8000 [==============================] - 0s 37us/step - loss: 0.3914 - acc: 0.8384\n",
            "Epoch 98/100\n",
            "8000/8000 [==============================] - 0s 37us/step - loss: 0.3916 - acc: 0.8384\n",
            "Epoch 99/100\n",
            "8000/8000 [==============================] - 0s 36us/step - loss: 0.3913 - acc: 0.8392\n",
            "Epoch 100/100\n",
            "8000/8000 [==============================] - 0s 37us/step - loss: 0.3911 - acc: 0.8387\n"
          ],
          "name": "stdout"
        }
      ]
    },
    {
      "cell_type": "markdown",
      "metadata": {
        "id": "CWGn8CZaxTTT",
        "colab_type": "text"
      },
      "source": [
        "## Making a confusion matrix to better understand results"
      ]
    },
    {
      "cell_type": "code",
      "metadata": {
        "id": "lTnRs4sSnshL",
        "colab_type": "code",
        "colab": {
          "base_uri": "https://localhost:8080/",
          "height": 51
        },
        "outputId": "4c42dae2-6547-4381-ae9b-1be0d8ae5fec"
      },
      "source": [
        "cm = confusion_matrix(y_test, y_pred)\n",
        "cm"
      ],
      "execution_count": 95,
      "outputs": [
        {
          "output_type": "execute_result",
          "data": {
            "text/plain": [
              "array([[1542,   53],\n",
              "       [ 269,  136]])"
            ]
          },
          "metadata": {
            "tags": []
          },
          "execution_count": 95
        }
      ]
    },
    {
      "cell_type": "markdown",
      "metadata": {
        "id": "ufAalDLsxdr5",
        "colab_type": "text"
      },
      "source": [
        "## Seeing our actual accuracy"
      ]
    },
    {
      "cell_type": "code",
      "metadata": {
        "id": "R7J2ZFdnoasF",
        "colab_type": "code",
        "outputId": "c7eb46bf-7467-4461-9326-8dfda7eb2aa6",
        "colab": {
          "base_uri": "https://localhost:8080/",
          "height": 34
        }
      },
      "source": [
        "accuracy = (cm[0][0] + cm[1][1])/ len(y_pred)\n",
        "accuracy"
      ],
      "execution_count": 96,
      "outputs": [
        {
          "output_type": "execute_result",
          "data": {
            "text/plain": [
              "0.839"
            ]
          },
          "metadata": {
            "tags": []
          },
          "execution_count": 96
        }
      ]
    },
    {
      "cell_type": "markdown",
      "metadata": {
        "id": "yGKKKcHCx7XL",
        "colab_type": "text"
      },
      "source": [
        "## Defining a new customer"
      ]
    },
    {
      "cell_type": "code",
      "metadata": {
        "id": "diIiacvMyMmC",
        "colab_type": "code",
        "colab": {}
      },
      "source": [
        "new_customer = [[600,40, 3, 60000, 2, 1, 1, 50000,1,0,0]]"
      ],
      "execution_count": 0,
      "outputs": []
    },
    {
      "cell_type": "markdown",
      "metadata": {
        "id": "-okbYjGT1X5w",
        "colab_type": "text"
      },
      "source": [
        "## Scaling the customer's data"
      ]
    },
    {
      "cell_type": "code",
      "metadata": {
        "id": "J0ycbfIp1LK6",
        "colab_type": "code",
        "colab": {}
      },
      "source": [
        "new_customer = standard_scaler.transform(new_customer)"
      ],
      "execution_count": 0,
      "outputs": []
    },
    {
      "cell_type": "markdown",
      "metadata": {
        "id": "EyJ39IJw1b1i",
        "colab_type": "text"
      },
      "source": [
        "## Making prediction on our new customer"
      ]
    },
    {
      "cell_type": "code",
      "metadata": {
        "id": "n_b3gDbQ7gSd",
        "colab_type": "code",
        "outputId": "c3cfe8c4-dc85-455a-f5e2-a780d8ad684c",
        "colab": {
          "base_uri": "https://localhost:8080/",
          "height": 34
        }
      },
      "source": [
        "new_customer_pred_prob = classifier.predict(new_customer)\n",
        "new_customer_pred = (new_customer_pred_prob > 0.5)\n",
        "new_customer_pred"
      ],
      "execution_count": 99,
      "outputs": [
        {
          "output_type": "execute_result",
          "data": {
            "text/plain": [
              "array([[False]])"
            ]
          },
          "metadata": {
            "tags": []
          },
          "execution_count": 99
        }
      ]
    },
    {
      "cell_type": "markdown",
      "metadata": {
        "id": "dWZqfYITTx-8",
        "colab_type": "text"
      },
      "source": [
        "This is an exercise that correponds with the Deep Learning A-Z course on Udemy."
      ]
    }
  ]
}